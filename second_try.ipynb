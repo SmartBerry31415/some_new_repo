{
 "cells": [
  {
   "cell_type": "markdown",
   "id": "24508f16",
   "metadata": {},
   "source": [
    "# Content Analysis of the Russian Federation's Ministry of Foreign Affairs' materials"
   ]
  },
  {
   "cell_type": "markdown",
   "id": "4915deb0",
   "metadata": {},
   "source": [
    "## I. Collecting necessary data "
   ]
  },
  {
   "cell_type": "markdown",
   "id": "9dff5cc7",
   "metadata": {},
   "source": [
    "### 1.1. Approach"
   ]
  },
  {
   "cell_type": "markdown",
   "id": "87038a1b",
   "metadata": {},
   "source": [
    "This project analyzes official statements, speeches, briefings and comments by Russian Federation's Minister of Foreign Affairs Sergey Lavrov, the Deputy Ministers and the Official Representative Maria Zakharova during the period of 2023-2013. \n",
    "\n",
    "\n",
    "Source of data: official website of the Ministry of Foreign Affairs of the Russian Federation (https://www.mid.ru).\n",
    "Language of collected materials: Russian.\n",
    "\n",
    "\n",
    "All data is collected automatically and stored in separate .txt files (please see .zip archive attached).\n",
    "\n",
    "\n",
    "All materials fall into six categories (as it is organized on the official website): \n",
    "1. minister_speeches \n",
    "2. deputy_ministers_speeches\n",
    "3. spokesman_briefings\n",
    "4. spokesman_official_statements\n",
    "5. spokesman_answers\n",
    "6. spokesman_comments\n",
    "\n",
    "\n",
    "File name format: \"file_id.txt\"."
   ]
  },
  {
   "cell_type": "markdown",
   "id": "eaa990b1",
   "metadata": {},
   "source": [
    "### 1.2 Environment Setup & Discovering the available data"
   ]
  },
  {
   "cell_type": "code",
   "execution_count": 1,
   "id": "af76f4e5",
   "metadata": {},
   "outputs": [],
   "source": [
    "categories = {\"minister_speeches\": \"https://www.mid.ru/ru/press_service/minister_speeches/?PAGEN_1\",\n",
    "              \"deputy_ministers_speeches\": \"https://www.mid.ru/ru/press_service/deputy_ministers_speeches/?PAGEN_1\",\n",
    "              \"spokesman_briefings\": \"https://www.mid.ru/ru/press_service/spokesman/briefings/?PAGEN_1\",\n",
    "              \"spokesman_official_statements\": \"https://www.mid.ru/ru/press_service/spokesman/official_statement/?PAGEN_1\",\n",
    "              \"spokesman_answers\": \"https://www.mid.ru/ru/press_service/spokesman/answers/?PAGEN_1\",\n",
    "              \"spokesman_comments\": \"https://www.mid.ru/ru/press_service/spokesman/kommentarii/?PAGEN_1\"}\n",
    "\n",
    "categories_limits = {\"minister_speeches\": 345,\n",
    "              \"deputy_ministers_speeches\": 32,\n",
    "              \"spokesman_briefings\": 22,\n",
    "              \"spokesman_official_statements\": 39,\n",
    "              \"spokesman_answers\": 55,\n",
    "              \"spokesman_comments\": 141}"
   ]
  },
  {
   "cell_type": "code",
   "execution_count": null,
   "id": "e64bbc93",
   "metadata": {},
   "outputs": [],
   "source": [
    "for category in categories:\n",
    "    collect_category(category)"
   ]
  },
  {
   "cell_type": "markdown",
   "id": "72f349cd",
   "metadata": {},
   "source": [
    "### 1.3. Collecting data"
   ]
  },
  {
   "cell_type": "code",
   "execution_count": null,
   "id": "81b7e025",
   "metadata": {},
   "outputs": [],
   "source": [
    "for category in categories:\n",
    "    collect_category_units(category)"
   ]
  },
  {
   "cell_type": "markdown",
   "id": "fb920027",
   "metadata": {},
   "source": [
    "## II. Data processing & overview"
   ]
  },
  {
   "cell_type": "markdown",
   "id": "9316e7e2",
   "metadata": {},
   "source": [
    "### 2.1. Preprocessing "
   ]
  },
  {
   "cell_type": "code",
   "execution_count": 21,
   "id": "7cd04b38",
   "metadata": {},
   "outputs": [],
   "source": [
    "import pandas as pd\n",
    "from datetime import date\n",
    "import re"
   ]
  },
  {
   "cell_type": "code",
   "execution_count": 77,
   "id": "49358a4c",
   "metadata": {},
   "outputs": [],
   "source": [
    "def read_record(record_path):\n",
    "    with open(record_path, \"r\", encoding=\"utf-8\") as unit_f:\n",
    "        tmp = unit_f.readlines()\n",
    "        article_day, article_month, article_year = tmp[0][:-1].split('.')\n",
    "        article_day, article_month, article_year = int(article_day), int(article_month), int(article_year) \n",
    "        # article_date = date(article_year, article_month, article_day)\n",
    "        article_name = tmp[1]\n",
    "        num_China = 0\n",
    "        num_Ukraine = 0\n",
    "        article_num_words = 0\n",
    "        for tmp_ in tmp[2:]:\n",
    "            num_China += len(re.findall(r\"[а-яА-ЯёЁ]*китай[а-яА-ЯёЁ]*\", tmp_, re.IGNORECASE))\n",
    "            num_Ukraine += len(re.findall(r\"[а-яА-ЯёЁ]*украин[а-яА-ЯёЁ]*\", tmp_, re.IGNORECASE))\n",
    "            num_China += len(re.findall(r\"[а-яА-ЯёЁ]*пекин[а-яА-ЯёЁ]*\", tmp_, re.IGNORECASE))\n",
    "            num_Ukraine += len(re.findall(r\"[а-яА-ЯёЁ]*киев[а-яА-ЯёЁ]*\", tmp_, re.IGNORECASE))\n",
    "            article_num_words += len(tmp_.split())\n",
    "        record = {\"Article id\": article_number, \"Article year\": article_year, \"Article month\": article_month, \n",
    "                  \"Article day\": article_day, \"Article name\": article_name, \"Article size\": article_num_words, \n",
    "                  \"China count\": num_China, \"Ukraine count\": num_Ukraine} \n",
    "        return record"
   ]
  },
  {
   "cell_type": "code",
   "execution_count": 79,
   "id": "3cdc0d2f",
   "metadata": {},
   "outputs": [],
   "source": [
    "results = []\n",
    "for category in categories:\n",
    "    f_path =f'articles\\\\{category}.txt'\n",
    "    with open(f_path, \"r\") as f:\n",
    "        articles = f.readlines()\n",
    "        for article_url in articles:\n",
    "            article_number = article_url[-9:-2]\n",
    "            cat_f_path = f\"{category}\\\\{article_number}.txt\"\n",
    "            record = read_record(cat_f_path)\n",
    "            record[\"Article category\"] = category\n",
    "            record[\"Article url\"] = article_url\n",
    "            results.append(record)"
   ]
  },
  {
   "cell_type": "code",
   "execution_count": 102,
   "id": "09c840c1",
   "metadata": {},
   "outputs": [
    {
     "data": {
      "text/html": [
       "<div>\n",
       "<style scoped>\n",
       "    .dataframe tbody tr th:only-of-type {\n",
       "        vertical-align: middle;\n",
       "    }\n",
       "\n",
       "    .dataframe tbody tr th {\n",
       "        vertical-align: top;\n",
       "    }\n",
       "\n",
       "    .dataframe thead th {\n",
       "        text-align: right;\n",
       "    }\n",
       "</style>\n",
       "<table border=\"1\" class=\"dataframe\">\n",
       "  <thead>\n",
       "    <tr style=\"text-align: right;\">\n",
       "      <th></th>\n",
       "      <th>Article id</th>\n",
       "      <th>Article year</th>\n",
       "      <th>Article month</th>\n",
       "      <th>Article day</th>\n",
       "      <th>Article name</th>\n",
       "      <th>Article size</th>\n",
       "      <th>China count</th>\n",
       "      <th>Ukraine count</th>\n",
       "      <th>Article category</th>\n",
       "      <th>Article url</th>\n",
       "    </tr>\n",
       "  </thead>\n",
       "  <tbody>\n",
       "    <tr>\n",
       "      <th>0</th>\n",
       "      <td>1914324</td>\n",
       "      <td>2023</td>\n",
       "      <td>11</td>\n",
       "      <td>10</td>\n",
       "      <td>Видеообращение Министра иностранных дел России...</td>\n",
       "      <td>251</td>\n",
       "      <td>0</td>\n",
       "      <td>0</td>\n",
       "      <td>minister_speeches</td>\n",
       "      <td>https://www.mid.ru/ru/press_service/minister_s...</td>\n",
       "    </tr>\n",
       "    <tr>\n",
       "      <th>1</th>\n",
       "      <td>1914059</td>\n",
       "      <td>2023</td>\n",
       "      <td>11</td>\n",
       "      <td>9</td>\n",
       "      <td>Ответы Министра иностранных дел Российской Фед...</td>\n",
       "      <td>75</td>\n",
       "      <td>0</td>\n",
       "      <td>2</td>\n",
       "      <td>minister_speeches</td>\n",
       "      <td>https://www.mid.ru/ru/press_service/minister_s...</td>\n",
       "    </tr>\n",
       "    <tr>\n",
       "      <th>2</th>\n",
       "      <td>1913921</td>\n",
       "      <td>2023</td>\n",
       "      <td>11</td>\n",
       "      <td>8</td>\n",
       "      <td>Выступление Министра иностранных дел Российско...</td>\n",
       "      <td>1886</td>\n",
       "      <td>1</td>\n",
       "      <td>10</td>\n",
       "      <td>minister_speeches</td>\n",
       "      <td>https://www.mid.ru/ru/press_service/minister_s...</td>\n",
       "    </tr>\n",
       "    <tr>\n",
       "      <th>3</th>\n",
       "      <td>1913533</td>\n",
       "      <td>2023</td>\n",
       "      <td>11</td>\n",
       "      <td>6</td>\n",
       "      <td>Выступление и ответы на вопросы Министра иност...</td>\n",
       "      <td>4059</td>\n",
       "      <td>4</td>\n",
       "      <td>13</td>\n",
       "      <td>minister_speeches</td>\n",
       "      <td>https://www.mid.ru/ru/press_service/minister_s...</td>\n",
       "    </tr>\n",
       "    <tr>\n",
       "      <th>4</th>\n",
       "      <td>1913456</td>\n",
       "      <td>2023</td>\n",
       "      <td>11</td>\n",
       "      <td>5</td>\n",
       "      <td>Ответы Министра иностранных дел Российской Фед...</td>\n",
       "      <td>279</td>\n",
       "      <td>0</td>\n",
       "      <td>0</td>\n",
       "      <td>minister_speeches</td>\n",
       "      <td>https://www.mid.ru/ru/press_service/minister_s...</td>\n",
       "    </tr>\n",
       "  </tbody>\n",
       "</table>\n",
       "</div>"
      ],
      "text/plain": [
       "  Article id  Article year  Article month  Article day  \\\n",
       "0    1914324          2023             11           10   \n",
       "1    1914059          2023             11            9   \n",
       "2    1913921          2023             11            8   \n",
       "3    1913533          2023             11            6   \n",
       "4    1913456          2023             11            5   \n",
       "\n",
       "                                        Article name  Article size  \\\n",
       "0  Видеообращение Министра иностранных дел России...           251   \n",
       "1  Ответы Министра иностранных дел Российской Фед...            75   \n",
       "2  Выступление Министра иностранных дел Российско...          1886   \n",
       "3  Выступление и ответы на вопросы Министра иност...          4059   \n",
       "4  Ответы Министра иностранных дел Российской Фед...           279   \n",
       "\n",
       "   China count  Ukraine count   Article category  \\\n",
       "0            0              0  minister_speeches   \n",
       "1            0              2  minister_speeches   \n",
       "2            1             10  minister_speeches   \n",
       "3            4             13  minister_speeches   \n",
       "4            0              0  minister_speeches   \n",
       "\n",
       "                                         Article url  \n",
       "0  https://www.mid.ru/ru/press_service/minister_s...  \n",
       "1  https://www.mid.ru/ru/press_service/minister_s...  \n",
       "2  https://www.mid.ru/ru/press_service/minister_s...  \n",
       "3  https://www.mid.ru/ru/press_service/minister_s...  \n",
       "4  https://www.mid.ru/ru/press_service/minister_s...  "
      ]
     },
     "execution_count": 102,
     "metadata": {},
     "output_type": "execute_result"
    }
   ],
   "source": [
    "df = pd.DataFrame(results)\n",
    "df = df[(df[\"Article year\"] >= 2013) & (df[\"Article year\"] <= 2023)]\n",
    "df.to_excel(\"output.xlsx\", sheet_name='Output')  \n",
    "df.head()"
   ]
  },
  {
   "cell_type": "code",
   "execution_count": 103,
   "id": "4942d4c6",
   "metadata": {},
   "outputs": [
    {
     "data": {
      "text/plain": [
       "(7854, 10)"
      ]
     },
     "execution_count": 103,
     "metadata": {},
     "output_type": "execute_result"
    }
   ],
   "source": [
    "df.shape"
   ]
  },
  {
   "cell_type": "markdown",
   "id": "f8daaddb",
   "metadata": {},
   "source": [
    "### 2.2. Data overview"
   ]
  },
  {
   "cell_type": "markdown",
   "id": "da1470bc",
   "metadata": {},
   "source": [
    "#### 2.2.1. Overall number of articles"
   ]
  },
  {
   "cell_type": "code",
   "execution_count": 104,
   "id": "6c93a5c1",
   "metadata": {},
   "outputs": [
    {
     "name": "stdout",
     "output_type": "stream",
     "text": [
      "7854 articles collected\n"
     ]
    }
   ],
   "source": [
    "print(df.shape[0], \"articles collected\")"
   ]
  },
  {
   "cell_type": "markdown",
   "id": "f5a3e43d",
   "metadata": {},
   "source": [
    "#### 2.2.2. Number of articles by 1) category, 2) year, 3) year and category, 4) year and month"
   ]
  },
  {
   "cell_type": "code",
   "execution_count": 105,
   "id": "d52da103",
   "metadata": {},
   "outputs": [
    {
     "data": {
      "text/html": [
       "<div>\n",
       "<style scoped>\n",
       "    .dataframe tbody tr th:only-of-type {\n",
       "        vertical-align: middle;\n",
       "    }\n",
       "\n",
       "    .dataframe tbody tr th {\n",
       "        vertical-align: top;\n",
       "    }\n",
       "\n",
       "    .dataframe thead th {\n",
       "        text-align: right;\n",
       "    }\n",
       "</style>\n",
       "<table border=\"1\" class=\"dataframe\">\n",
       "  <thead>\n",
       "    <tr style=\"text-align: right;\">\n",
       "      <th></th>\n",
       "      <th>Category</th>\n",
       "      <th>Number of Articles</th>\n",
       "    </tr>\n",
       "  </thead>\n",
       "  <tbody>\n",
       "    <tr>\n",
       "      <th>0</th>\n",
       "      <td>deputy_ministers_speeches</td>\n",
       "      <td>305</td>\n",
       "    </tr>\n",
       "    <tr>\n",
       "      <th>1</th>\n",
       "      <td>minister_speeches</td>\n",
       "      <td>3439</td>\n",
       "    </tr>\n",
       "    <tr>\n",
       "      <th>2</th>\n",
       "      <td>spokesman_answers</td>\n",
       "      <td>534</td>\n",
       "    </tr>\n",
       "    <tr>\n",
       "      <th>3</th>\n",
       "      <td>spokesman_briefings</td>\n",
       "      <td>404</td>\n",
       "    </tr>\n",
       "    <tr>\n",
       "      <th>4</th>\n",
       "      <td>spokesman_comments</td>\n",
       "      <td>2792</td>\n",
       "    </tr>\n",
       "    <tr>\n",
       "      <th>5</th>\n",
       "      <td>spokesman_official_statements</td>\n",
       "      <td>380</td>\n",
       "    </tr>\n",
       "  </tbody>\n",
       "</table>\n",
       "</div>"
      ],
      "text/plain": [
       "                        Category  Number of Articles\n",
       "0      deputy_ministers_speeches                 305\n",
       "1              minister_speeches                3439\n",
       "2              spokesman_answers                 534\n",
       "3            spokesman_briefings                 404\n",
       "4             spokesman_comments                2792\n",
       "5  spokesman_official_statements                 380"
      ]
     },
     "execution_count": 105,
     "metadata": {},
     "output_type": "execute_result"
    }
   ],
   "source": [
    "cat_count = pd.DataFrame(df.groupby(\"Article category\")[\"Article id\"].count())\n",
    "cat_count = cat_count.reset_index()\n",
    "cat_count.columns = [\"Category\", \"Number of Articles\"]\n",
    "cat_count"
   ]
  },
  {
   "cell_type": "code",
   "execution_count": 106,
   "id": "fd2c9fcf",
   "metadata": {},
   "outputs": [
    {
     "data": {
      "text/html": [
       "<div>\n",
       "<style scoped>\n",
       "    .dataframe tbody tr th:only-of-type {\n",
       "        vertical-align: middle;\n",
       "    }\n",
       "\n",
       "    .dataframe tbody tr th {\n",
       "        vertical-align: top;\n",
       "    }\n",
       "\n",
       "    .dataframe thead th {\n",
       "        text-align: right;\n",
       "    }\n",
       "</style>\n",
       "<table border=\"1\" class=\"dataframe\">\n",
       "  <thead>\n",
       "    <tr style=\"text-align: right;\">\n",
       "      <th></th>\n",
       "      <th>Year</th>\n",
       "      <th>Number of Articles</th>\n",
       "    </tr>\n",
       "  </thead>\n",
       "  <tbody>\n",
       "    <tr>\n",
       "      <th>0</th>\n",
       "      <td>2013</td>\n",
       "      <td>591</td>\n",
       "    </tr>\n",
       "    <tr>\n",
       "      <th>1</th>\n",
       "      <td>2014</td>\n",
       "      <td>921</td>\n",
       "    </tr>\n",
       "    <tr>\n",
       "      <th>2</th>\n",
       "      <td>2015</td>\n",
       "      <td>738</td>\n",
       "    </tr>\n",
       "    <tr>\n",
       "      <th>3</th>\n",
       "      <td>2016</td>\n",
       "      <td>774</td>\n",
       "    </tr>\n",
       "    <tr>\n",
       "      <th>4</th>\n",
       "      <td>2017</td>\n",
       "      <td>775</td>\n",
       "    </tr>\n",
       "    <tr>\n",
       "      <th>5</th>\n",
       "      <td>2018</td>\n",
       "      <td>674</td>\n",
       "    </tr>\n",
       "    <tr>\n",
       "      <th>6</th>\n",
       "      <td>2019</td>\n",
       "      <td>766</td>\n",
       "    </tr>\n",
       "    <tr>\n",
       "      <th>7</th>\n",
       "      <td>2020</td>\n",
       "      <td>654</td>\n",
       "    </tr>\n",
       "    <tr>\n",
       "      <th>8</th>\n",
       "      <td>2021</td>\n",
       "      <td>650</td>\n",
       "    </tr>\n",
       "    <tr>\n",
       "      <th>9</th>\n",
       "      <td>2022</td>\n",
       "      <td>672</td>\n",
       "    </tr>\n",
       "    <tr>\n",
       "      <th>10</th>\n",
       "      <td>2023</td>\n",
       "      <td>639</td>\n",
       "    </tr>\n",
       "  </tbody>\n",
       "</table>\n",
       "</div>"
      ],
      "text/plain": [
       "    Year  Number of Articles\n",
       "0   2013                 591\n",
       "1   2014                 921\n",
       "2   2015                 738\n",
       "3   2016                 774\n",
       "4   2017                 775\n",
       "5   2018                 674\n",
       "6   2019                 766\n",
       "7   2020                 654\n",
       "8   2021                 650\n",
       "9   2022                 672\n",
       "10  2023                 639"
      ]
     },
     "execution_count": 106,
     "metadata": {},
     "output_type": "execute_result"
    }
   ],
   "source": [
    "year_count = pd.DataFrame(df.groupby(\"Article year\")[\"Article id\"].count())\n",
    "year_count = year_count.reset_index()\n",
    "year_count.columns = [\"Year\", \"Number of Articles\"]\n",
    "year_count"
   ]
  },
  {
   "cell_type": "code",
   "execution_count": 107,
   "id": "a33ec6e0",
   "metadata": {},
   "outputs": [
    {
     "data": {
      "text/html": [
       "<div>\n",
       "<style scoped>\n",
       "    .dataframe tbody tr th:only-of-type {\n",
       "        vertical-align: middle;\n",
       "    }\n",
       "\n",
       "    .dataframe tbody tr th {\n",
       "        vertical-align: top;\n",
       "    }\n",
       "\n",
       "    .dataframe thead th {\n",
       "        text-align: right;\n",
       "    }\n",
       "</style>\n",
       "<table border=\"1\" class=\"dataframe\">\n",
       "  <thead>\n",
       "    <tr style=\"text-align: right;\">\n",
       "      <th>Article category</th>\n",
       "      <th>deputy_ministers_speeches</th>\n",
       "      <th>minister_speeches</th>\n",
       "      <th>spokesman_answers</th>\n",
       "      <th>spokesman_briefings</th>\n",
       "      <th>spokesman_comments</th>\n",
       "      <th>spokesman_official_statements</th>\n",
       "    </tr>\n",
       "    <tr>\n",
       "      <th>Article year</th>\n",
       "      <th></th>\n",
       "      <th></th>\n",
       "      <th></th>\n",
       "      <th></th>\n",
       "      <th></th>\n",
       "      <th></th>\n",
       "    </tr>\n",
       "  </thead>\n",
       "  <tbody>\n",
       "    <tr>\n",
       "      <th>2013</th>\n",
       "      <td>55</td>\n",
       "      <td>263</td>\n",
       "      <td>53</td>\n",
       "      <td>14</td>\n",
       "      <td>186</td>\n",
       "      <td>20</td>\n",
       "    </tr>\n",
       "    <tr>\n",
       "      <th>2014</th>\n",
       "      <td>63</td>\n",
       "      <td>293</td>\n",
       "      <td>58</td>\n",
       "      <td>15</td>\n",
       "      <td>419</td>\n",
       "      <td>73</td>\n",
       "    </tr>\n",
       "    <tr>\n",
       "      <th>2015</th>\n",
       "      <td>33</td>\n",
       "      <td>311</td>\n",
       "      <td>42</td>\n",
       "      <td>23</td>\n",
       "      <td>296</td>\n",
       "      <td>33</td>\n",
       "    </tr>\n",
       "    <tr>\n",
       "      <th>2016</th>\n",
       "      <td>47</td>\n",
       "      <td>340</td>\n",
       "      <td>43</td>\n",
       "      <td>43</td>\n",
       "      <td>277</td>\n",
       "      <td>24</td>\n",
       "    </tr>\n",
       "    <tr>\n",
       "      <th>2017</th>\n",
       "      <td>22</td>\n",
       "      <td>362</td>\n",
       "      <td>34</td>\n",
       "      <td>45</td>\n",
       "      <td>295</td>\n",
       "      <td>17</td>\n",
       "    </tr>\n",
       "    <tr>\n",
       "      <th>2018</th>\n",
       "      <td>18</td>\n",
       "      <td>312</td>\n",
       "      <td>31</td>\n",
       "      <td>47</td>\n",
       "      <td>248</td>\n",
       "      <td>18</td>\n",
       "    </tr>\n",
       "    <tr>\n",
       "      <th>2019</th>\n",
       "      <td>13</td>\n",
       "      <td>407</td>\n",
       "      <td>19</td>\n",
       "      <td>39</td>\n",
       "      <td>280</td>\n",
       "      <td>8</td>\n",
       "    </tr>\n",
       "    <tr>\n",
       "      <th>2020</th>\n",
       "      <td>15</td>\n",
       "      <td>255</td>\n",
       "      <td>33</td>\n",
       "      <td>48</td>\n",
       "      <td>275</td>\n",
       "      <td>28</td>\n",
       "    </tr>\n",
       "    <tr>\n",
       "      <th>2021</th>\n",
       "      <td>26</td>\n",
       "      <td>344</td>\n",
       "      <td>41</td>\n",
       "      <td>45</td>\n",
       "      <td>171</td>\n",
       "      <td>23</td>\n",
       "    </tr>\n",
       "    <tr>\n",
       "      <th>2022</th>\n",
       "      <td>6</td>\n",
       "      <td>279</td>\n",
       "      <td>57</td>\n",
       "      <td>48</td>\n",
       "      <td>193</td>\n",
       "      <td>89</td>\n",
       "    </tr>\n",
       "    <tr>\n",
       "      <th>2023</th>\n",
       "      <td>7</td>\n",
       "      <td>273</td>\n",
       "      <td>123</td>\n",
       "      <td>37</td>\n",
       "      <td>152</td>\n",
       "      <td>47</td>\n",
       "    </tr>\n",
       "  </tbody>\n",
       "</table>\n",
       "</div>"
      ],
      "text/plain": [
       "Article category  deputy_ministers_speeches  minister_speeches  \\\n",
       "Article year                                                     \n",
       "2013                                     55                263   \n",
       "2014                                     63                293   \n",
       "2015                                     33                311   \n",
       "2016                                     47                340   \n",
       "2017                                     22                362   \n",
       "2018                                     18                312   \n",
       "2019                                     13                407   \n",
       "2020                                     15                255   \n",
       "2021                                     26                344   \n",
       "2022                                      6                279   \n",
       "2023                                      7                273   \n",
       "\n",
       "Article category  spokesman_answers  spokesman_briefings  spokesman_comments  \\\n",
       "Article year                                                                   \n",
       "2013                             53                   14                 186   \n",
       "2014                             58                   15                 419   \n",
       "2015                             42                   23                 296   \n",
       "2016                             43                   43                 277   \n",
       "2017                             34                   45                 295   \n",
       "2018                             31                   47                 248   \n",
       "2019                             19                   39                 280   \n",
       "2020                             33                   48                 275   \n",
       "2021                             41                   45                 171   \n",
       "2022                             57                   48                 193   \n",
       "2023                            123                   37                 152   \n",
       "\n",
       "Article category  spokesman_official_statements  \n",
       "Article year                                     \n",
       "2013                                         20  \n",
       "2014                                         73  \n",
       "2015                                         33  \n",
       "2016                                         24  \n",
       "2017                                         17  \n",
       "2018                                         18  \n",
       "2019                                          8  \n",
       "2020                                         28  \n",
       "2021                                         23  \n",
       "2022                                         89  \n",
       "2023                                         47  "
      ]
     },
     "execution_count": 107,
     "metadata": {},
     "output_type": "execute_result"
    }
   ],
   "source": [
    "df.groupby([\"Article year\", \"Article category\"])[\"Article id\"].count().unstack()"
   ]
  },
  {
   "cell_type": "markdown",
   "id": "e7e4c7a7",
   "metadata": {},
   "source": [
    "#### 2.2.3. Number of articles that contain \"China\" (or the relative words)"
   ]
  },
  {
   "cell_type": "code",
   "execution_count": 108,
   "id": "cdf9e81e",
   "metadata": {},
   "outputs": [
    {
     "name": "stdout",
     "output_type": "stream",
     "text": [
      "990 articles contain 'China' (or the relative words)\n"
     ]
    }
   ],
   "source": [
    "df_china = df[df[\"China count\"] > 0]\n",
    "print(df_china.shape[0], \"articles contain 'China' (or the relative words)\")"
   ]
  },
  {
   "cell_type": "code",
   "execution_count": 109,
   "id": "1c5d3bb3",
   "metadata": {},
   "outputs": [
    {
     "data": {
      "text/html": [
       "<div>\n",
       "<style scoped>\n",
       "    .dataframe tbody tr th:only-of-type {\n",
       "        vertical-align: middle;\n",
       "    }\n",
       "\n",
       "    .dataframe tbody tr th {\n",
       "        vertical-align: top;\n",
       "    }\n",
       "\n",
       "    .dataframe thead th {\n",
       "        text-align: right;\n",
       "    }\n",
       "</style>\n",
       "<table border=\"1\" class=\"dataframe\">\n",
       "  <thead>\n",
       "    <tr style=\"text-align: right;\">\n",
       "      <th></th>\n",
       "      <th>Year</th>\n",
       "      <th>Number of Articles with 'CHINA'</th>\n",
       "    </tr>\n",
       "  </thead>\n",
       "  <tbody>\n",
       "    <tr>\n",
       "      <th>0</th>\n",
       "      <td>2013</td>\n",
       "      <td>51</td>\n",
       "    </tr>\n",
       "    <tr>\n",
       "      <th>1</th>\n",
       "      <td>2014</td>\n",
       "      <td>54</td>\n",
       "    </tr>\n",
       "    <tr>\n",
       "      <th>2</th>\n",
       "      <td>2015</td>\n",
       "      <td>70</td>\n",
       "    </tr>\n",
       "    <tr>\n",
       "      <th>3</th>\n",
       "      <td>2016</td>\n",
       "      <td>80</td>\n",
       "    </tr>\n",
       "    <tr>\n",
       "      <th>4</th>\n",
       "      <td>2017</td>\n",
       "      <td>84</td>\n",
       "    </tr>\n",
       "    <tr>\n",
       "      <th>5</th>\n",
       "      <td>2018</td>\n",
       "      <td>95</td>\n",
       "    </tr>\n",
       "    <tr>\n",
       "      <th>6</th>\n",
       "      <td>2019</td>\n",
       "      <td>101</td>\n",
       "    </tr>\n",
       "    <tr>\n",
       "      <th>7</th>\n",
       "      <td>2020</td>\n",
       "      <td>99</td>\n",
       "    </tr>\n",
       "    <tr>\n",
       "      <th>8</th>\n",
       "      <td>2021</td>\n",
       "      <td>110</td>\n",
       "    </tr>\n",
       "    <tr>\n",
       "      <th>9</th>\n",
       "      <td>2022</td>\n",
       "      <td>120</td>\n",
       "    </tr>\n",
       "    <tr>\n",
       "      <th>10</th>\n",
       "      <td>2023</td>\n",
       "      <td>126</td>\n",
       "    </tr>\n",
       "  </tbody>\n",
       "</table>\n",
       "</div>"
      ],
      "text/plain": [
       "    Year  Number of Articles with 'CHINA'\n",
       "0   2013                               51\n",
       "1   2014                               54\n",
       "2   2015                               70\n",
       "3   2016                               80\n",
       "4   2017                               84\n",
       "5   2018                               95\n",
       "6   2019                              101\n",
       "7   2020                               99\n",
       "8   2021                              110\n",
       "9   2022                              120\n",
       "10  2023                              126"
      ]
     },
     "execution_count": 109,
     "metadata": {},
     "output_type": "execute_result"
    }
   ],
   "source": [
    "year_china = pd.DataFrame(df_china.groupby(\"Article year\")[\"Article id\"].count())\n",
    "year_china = year_china.reset_index()\n",
    "year_china.columns = [\"Year\", \"Number of Articles with 'CHINA'\"]\n",
    "year_china"
   ]
  },
  {
   "cell_type": "code",
   "execution_count": 125,
   "id": "fbaebdcf",
   "metadata": {},
   "outputs": [
    {
     "data": {
      "text/plain": [
       "<AxesSubplot:xlabel='Year'>"
      ]
     },
     "execution_count": 125,
     "metadata": {},
     "output_type": "execute_result"
    },
    {
     "data": {
      "image/png": "[encoded data removed]",
      "text/plain": [
       "<Figure size 432x288 with 1 Axes>"
      ]
     },
     "metadata": {
      "needs_background": "light"
     },
     "output_type": "display_data"
    }
   ],
   "source": [
    "year_china.plot.bar(x=\"Year\", y=\"Number of Articles with 'CHINA'\", color=\"red\")"
   ]
  },
  {
   "cell_type": "markdown",
   "id": "4261267a",
   "metadata": {},
   "source": [
    "#### 2.2.4. Number of articles that contain \"Ukraine\" (or the relative words)"
   ]
  },
  {
   "cell_type": "code",
   "execution_count": 111,
   "id": "4d852cd0",
   "metadata": {},
   "outputs": [
    {
     "name": "stdout",
     "output_type": "stream",
     "text": [
      "2682 articles contain 'Ukraine' (or the relative words)\n"
     ]
    }
   ],
   "source": [
    "df_ukraine = df[df[\"Ukraine count\"] > 0]\n",
    "print(df_ukraine.shape[0], \"articles contain 'Ukraine' (or the relative words)\")"
   ]
  },
  {
   "cell_type": "code",
   "execution_count": 112,
   "id": "5f01d659",
   "metadata": {},
   "outputs": [
    {
     "data": {
      "text/html": [
       "<div>\n",
       "<style scoped>\n",
       "    .dataframe tbody tr th:only-of-type {\n",
       "        vertical-align: middle;\n",
       "    }\n",
       "\n",
       "    .dataframe tbody tr th {\n",
       "        vertical-align: top;\n",
       "    }\n",
       "\n",
       "    .dataframe thead th {\n",
       "        text-align: right;\n",
       "    }\n",
       "</style>\n",
       "<table border=\"1\" class=\"dataframe\">\n",
       "  <thead>\n",
       "    <tr style=\"text-align: right;\">\n",
       "      <th></th>\n",
       "      <th>Year</th>\n",
       "      <th>Number of Articles with 'UKRAINE'</th>\n",
       "    </tr>\n",
       "  </thead>\n",
       "  <tbody>\n",
       "    <tr>\n",
       "      <th>0</th>\n",
       "      <td>2013</td>\n",
       "      <td>54</td>\n",
       "    </tr>\n",
       "    <tr>\n",
       "      <th>1</th>\n",
       "      <td>2014</td>\n",
       "      <td>504</td>\n",
       "    </tr>\n",
       "    <tr>\n",
       "      <th>2</th>\n",
       "      <td>2015</td>\n",
       "      <td>285</td>\n",
       "    </tr>\n",
       "    <tr>\n",
       "      <th>3</th>\n",
       "      <td>2016</td>\n",
       "      <td>225</td>\n",
       "    </tr>\n",
       "    <tr>\n",
       "      <th>4</th>\n",
       "      <td>2017</td>\n",
       "      <td>225</td>\n",
       "    </tr>\n",
       "    <tr>\n",
       "      <th>5</th>\n",
       "      <td>2018</td>\n",
       "      <td>190</td>\n",
       "    </tr>\n",
       "    <tr>\n",
       "      <th>6</th>\n",
       "      <td>2019</td>\n",
       "      <td>190</td>\n",
       "    </tr>\n",
       "    <tr>\n",
       "      <th>7</th>\n",
       "      <td>2020</td>\n",
       "      <td>132</td>\n",
       "    </tr>\n",
       "    <tr>\n",
       "      <th>8</th>\n",
       "      <td>2021</td>\n",
       "      <td>182</td>\n",
       "    </tr>\n",
       "    <tr>\n",
       "      <th>9</th>\n",
       "      <td>2022</td>\n",
       "      <td>359</td>\n",
       "    </tr>\n",
       "    <tr>\n",
       "      <th>10</th>\n",
       "      <td>2023</td>\n",
       "      <td>336</td>\n",
       "    </tr>\n",
       "  </tbody>\n",
       "</table>\n",
       "</div>"
      ],
      "text/plain": [
       "    Year  Number of Articles with 'UKRAINE'\n",
       "0   2013                                 54\n",
       "1   2014                                504\n",
       "2   2015                                285\n",
       "3   2016                                225\n",
       "4   2017                                225\n",
       "5   2018                                190\n",
       "6   2019                                190\n",
       "7   2020                                132\n",
       "8   2021                                182\n",
       "9   2022                                359\n",
       "10  2023                                336"
      ]
     },
     "execution_count": 112,
     "metadata": {},
     "output_type": "execute_result"
    }
   ],
   "source": [
    "year_ukraine = pd.DataFrame(df_ukraine.groupby(\"Article year\")[\"Article id\"].count())\n",
    "year_ukraine = year_ukraine.reset_index()\n",
    "year_ukraine.columns = [\"Year\", \"Number of Articles with 'UKRAINE'\"]\n",
    "year_ukraine"
   ]
  },
  {
   "cell_type": "code",
   "execution_count": 115,
   "id": "cf8542d0",
   "metadata": {},
   "outputs": [
    {
     "data": {
      "text/plain": [
       "<AxesSubplot:xlabel='Year'>"
      ]
     },
     "execution_count": 115,
     "metadata": {},
     "output_type": "execute_result"
    },
    {
     "data": {
      "image/png": "[encoded data removed]",
      "text/plain": [
       "<Figure size 432x288 with 1 Axes>"
      ]
     },
     "metadata": {
      "needs_background": "light"
     },
     "output_type": "display_data"
    }
   ],
   "source": [
    "year_ukraine.plot.bar(x=\"Year\", y=\"Number of Articles with 'UKRAINE'\", color=\"aqua\")"
   ]
  },
  {
   "cell_type": "markdown",
   "id": "05a955c7",
   "metadata": {},
   "source": [
    "#### 2.2.5. Visual comparison between numbers of articles that contain \"Ukraine\" (or the relative words) and \"China\" (or the relative words)"
   ]
  },
  {
   "cell_type": "code",
   "execution_count": 121,
   "id": "9a09c458",
   "metadata": {},
   "outputs": [
    {
     "data": {
      "text/html": [
       "<div>\n",
       "<style scoped>\n",
       "    .dataframe tbody tr th:only-of-type {\n",
       "        vertical-align: middle;\n",
       "    }\n",
       "\n",
       "    .dataframe tbody tr th {\n",
       "        vertical-align: top;\n",
       "    }\n",
       "\n",
       "    .dataframe thead th {\n",
       "        text-align: right;\n",
       "    }\n",
       "</style>\n",
       "<table border=\"1\" class=\"dataframe\">\n",
       "  <thead>\n",
       "    <tr style=\"text-align: right;\">\n",
       "      <th></th>\n",
       "      <th>Number of Articles with 'CHINA'</th>\n",
       "      <th>Number of Articles with 'UKRAINE'</th>\n",
       "    </tr>\n",
       "    <tr>\n",
       "      <th>Year</th>\n",
       "      <th></th>\n",
       "      <th></th>\n",
       "    </tr>\n",
       "  </thead>\n",
       "  <tbody>\n",
       "    <tr>\n",
       "      <th>2013</th>\n",
       "      <td>51</td>\n",
       "      <td>54</td>\n",
       "    </tr>\n",
       "    <tr>\n",
       "      <th>2014</th>\n",
       "      <td>54</td>\n",
       "      <td>504</td>\n",
       "    </tr>\n",
       "    <tr>\n",
       "      <th>2015</th>\n",
       "      <td>70</td>\n",
       "      <td>285</td>\n",
       "    </tr>\n",
       "    <tr>\n",
       "      <th>2016</th>\n",
       "      <td>80</td>\n",
       "      <td>225</td>\n",
       "    </tr>\n",
       "    <tr>\n",
       "      <th>2017</th>\n",
       "      <td>84</td>\n",
       "      <td>225</td>\n",
       "    </tr>\n",
       "    <tr>\n",
       "      <th>2018</th>\n",
       "      <td>95</td>\n",
       "      <td>190</td>\n",
       "    </tr>\n",
       "    <tr>\n",
       "      <th>2019</th>\n",
       "      <td>101</td>\n",
       "      <td>190</td>\n",
       "    </tr>\n",
       "    <tr>\n",
       "      <th>2020</th>\n",
       "      <td>99</td>\n",
       "      <td>132</td>\n",
       "    </tr>\n",
       "    <tr>\n",
       "      <th>2021</th>\n",
       "      <td>110</td>\n",
       "      <td>182</td>\n",
       "    </tr>\n",
       "    <tr>\n",
       "      <th>2022</th>\n",
       "      <td>120</td>\n",
       "      <td>359</td>\n",
       "    </tr>\n",
       "    <tr>\n",
       "      <th>2023</th>\n",
       "      <td>126</td>\n",
       "      <td>336</td>\n",
       "    </tr>\n",
       "  </tbody>\n",
       "</table>\n",
       "</div>"
      ],
      "text/plain": [
       "      Number of Articles with 'CHINA'  Number of Articles with 'UKRAINE'\n",
       "Year                                                                    \n",
       "2013                               51                                 54\n",
       "2014                               54                                504\n",
       "2015                               70                                285\n",
       "2016                               80                                225\n",
       "2017                               84                                225\n",
       "2018                               95                                190\n",
       "2019                              101                                190\n",
       "2020                               99                                132\n",
       "2021                              110                                182\n",
       "2022                              120                                359\n",
       "2023                              126                                336"
      ]
     },
     "execution_count": 121,
     "metadata": {},
     "output_type": "execute_result"
    }
   ],
   "source": [
    "ukraine_china = year_china\n",
    "ukraine_china[\"Number of Articles with 'UKRAINE'\"] = year_ukraine[\"Number of Articles with 'UKRAINE'\"]\n",
    "ukraine_china = ukraine_china.set_index(\"Year\")\n",
    "ukraine_china"
   ]
  },
  {
   "cell_type": "code",
   "execution_count": 124,
   "id": "0347e1f9",
   "metadata": {},
   "outputs": [
    {
     "data": {
      "text/plain": [
       "<AxesSubplot:xlabel='Year'>"
      ]
     },
     "execution_count": 124,
     "metadata": {},
     "output_type": "execute_result"
    },
    {
     "data": {
      "image/png": "[encoded data removed]",
      "text/plain": [
       "<Figure size 432x288 with 1 Axes>"
      ]
     },
     "metadata": {
      "needs_background": "light"
     },
     "output_type": "display_data"
    }
   ],
   "source": [
    "ukraine_china.plot.bar(color={\"Number of Articles with 'CHINA'\": \"red\", \"Number of Articles with 'UKRAINE'\": \"aqua\"})"
   ]
  },
  {
   "cell_type": "code",
   "execution_count": null,
   "id": "cee2f063",
   "metadata": {},
   "outputs": [],
   "source": []
  }
 ],
 "metadata": {
  "kernelspec": {
   "display_name": "Python 3 (ipykernel)",
   "language": "python",
   "name": "python3"
  },
  "language_info": {
   "codemirror_mode": {
    "name": "ipython",
    "version": 3
   },
   "file_extension": ".py",
   "mimetype": "text/x-python",
   "name": "python",
   "nbconvert_exporter": "python",
   "pygments_lexer": "ipython3",
   "version": "3.9.7"
  }
 },
 "nbformat": 4,
 "nbformat_minor": 5
}
